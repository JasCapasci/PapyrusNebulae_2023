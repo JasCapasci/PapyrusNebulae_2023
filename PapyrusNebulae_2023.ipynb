{
  "nbformat": 4,
  "nbformat_minor": 0,
  "metadata": {
    "colab": {
      "provenance": [],
      "authorship_tag": "ABX9TyM6apOthrvhJdv0QIr3Y30L",
      "include_colab_link": true
    },
    "kernelspec": {
      "name": "python3",
      "display_name": "Python 3"
    },
    "language_info": {
      "name": "python"
    }
  },
  "cells": [
    {
      "cell_type": "markdown",
      "metadata": {
        "id": "view-in-github",
        "colab_type": "text"
      },
      "source": [
        "<a href=\"https://colab.research.google.com/github/JasCapasci/PapyrusNebulae_2023/blob/main/PapyrusNebulae_2023.ipynb\" target=\"_parent\"><img src=\"https://colab.research.google.com/assets/colab-badge.svg\" alt=\"Open In Colab\"/></a>"
      ]
    },
    {
      "cell_type": "code",
      "source": [
        "from google.colab import drive\n",
        "drive.mount('/content/drive')"
      ],
      "metadata": {
        "colab": {
          "base_uri": "https://localhost:8080/"
        },
        "id": "5WIjZQm-C0RY",
        "outputId": "11637c8f-f29f-45e1-81c6-cb25865cfec4"
      },
      "execution_count": 17,
      "outputs": [
        {
          "output_type": "stream",
          "name": "stdout",
          "text": [
            "Mounted at /content/drive\n"
          ]
        }
      ]
    },
    {
      "cell_type": "markdown",
      "source": [
        "After spending a good chunk of time Googling and reading Stack Overflow I got to know that the pdfservices-sdk package is not available directly via pip for installation in Google Colab. But I still tried to utilize the Adobe PDF Services Extract API in Google Colab by making HTTP requests to the API endpoints directly."
      ],
      "metadata": {
        "id": "CGKTXpKW3S5N"
      }
    },
    {
      "cell_type": "code",
      "execution_count": 8,
      "metadata": {
        "colab": {
          "base_uri": "https://localhost:8080/"
        },
        "id": "wDiYfL0Y9FmI",
        "outputId": "0f5f7590-44db-43fb-835c-d9d0382328ee"
      },
      "outputs": [
        {
          "output_type": "stream",
          "name": "stdout",
          "text": [
            "Looking in indexes: https://pypi.org/simple, https://us-python.pkg.dev/colab-wheels/public/simple/\n",
            "Requirement already satisfied: requests in /usr/local/lib/python3.10/dist-packages (2.27.1)\n",
            "Requirement already satisfied: urllib3<1.27,>=1.21.1 in /usr/local/lib/python3.10/dist-packages (from requests) (1.26.16)\n",
            "Requirement already satisfied: certifi>=2017.4.17 in /usr/local/lib/python3.10/dist-packages (from requests) (2023.5.7)\n",
            "Requirement already satisfied: charset-normalizer~=2.0.0 in /usr/local/lib/python3.10/dist-packages (from requests) (2.0.12)\n",
            "Requirement already satisfied: idna<4,>=2.5 in /usr/local/lib/python3.10/dist-packages (from requests) (3.4)\n"
          ]
        }
      ],
      "source": [
        "!pip install requests"
      ]
    },
    {
      "cell_type": "code",
      "source": [
        "import os\n",
        "import csv"
      ],
      "metadata": {
        "id": "iFapJ5Ju9aFZ"
      },
      "execution_count": 9,
      "outputs": []
    },
    {
      "cell_type": "code",
      "source": [
        "import requests\n",
        "import json"
      ],
      "metadata": {
        "id": "T1Gc4apfWB3_"
      },
      "execution_count": 10,
      "outputs": []
    },
    {
      "cell_type": "code",
      "source": [
        "import logging"
      ],
      "metadata": {
        "id": "LQcEdBvp65DE"
      },
      "execution_count": 11,
      "outputs": []
    },
    {
      "cell_type": "code",
      "source": [
        "client_id = '1e57004a48674d1fb5af2c42e971bcad'\n",
        "client_secret = 'p8e-MYlNZlKZHm_4iOE0e_Y0Rss9Lhr_Awff'\n",
        "organization_id = '9AA21EBD648726540A495F85@AdobeOrg'\n",
        "account_id = '92561EBE648728580A495EA7@techacct.adobe.com'\n",
        "private_key_file = '/content/drive/MyDrive/adobe-dc-pdf-services-sdk-python-samples/private.key'"
      ],
      "metadata": {
        "id": "WzhNbuE466SW"
      },
      "execution_count": 12,
      "outputs": []
    },
    {
      "cell_type": "code",
      "source": [
        "extract_api_url = 'https://pdfservices.adobe.io'"
      ],
      "metadata": {
        "id": "3S0pfFSP95j2"
      },
      "execution_count": 13,
      "outputs": []
    },
    {
      "cell_type": "code",
      "source": [
        "def get_access_token():\n",
        "    token_url = f'{extract_api_url}/oauth/refresh'\n",
        "    payload = {\n",
        "        'client_id': client_id,\n",
        "        'client_secret': client_secret,\n",
        "        'jwt_token': ''\n",
        "    }\n",
        "    response = requests.post(token_url, json=payload)\n",
        "    response_data = response.json()\n",
        "    access_token = response_data['access_token']\n",
        "    return access_token"
      ],
      "metadata": {
        "id": "EUxo09o695aB"
      },
      "execution_count": 14,
      "outputs": []
    },
    {
      "cell_type": "code",
      "source": [
        "folder_path = '/content/drive/MyDrive/InvoicesData/TestDataSet'"
      ],
      "metadata": {
        "id": "rDfkzpyK95Nr"
      },
      "execution_count": 15,
      "outputs": []
    },
    {
      "cell_type": "code",
      "source": [
        "input_file_paths = []\n",
        "for file_name in os.listdir(folder_path):\n",
        "    if file_name.endswith('.pdf'):\n",
        "        file_path = os.path.join(folder_path, file_name)\n",
        "        input_file_paths.append(file_path)"
      ],
      "metadata": {
        "id": "RkEn07qAV2Nq"
      },
      "execution_count": 18,
      "outputs": []
    },
    {
      "cell_type": "code",
      "source": [
        "def extract_invoice_data(input_file_paths):\n",
        "    extract_url = f'{extract_api_url}/pdfExtract/operations'\n",
        "    access_token = get_access_token()"
      ],
      "metadata": {
        "id": "adEKfPfmWKke"
      },
      "execution_count": 19,
      "outputs": []
    },
    {
      "cell_type": "code",
      "source": [
        "for file_path in input_file_paths:\n",
        "    # Set the operation options for each file\n",
        "    operation_options = {\n",
        "        'input': {\n",
        "            'file': {\n",
        "                'filename': file_path\n",
        "            }\n",
        "        },\n",
        "        'output': {\n",
        "            'format': 'csv'\n",
        "        },\n",
        "        'elements': [\n",
        "            {\n",
        "                'type': 'text'\n",
        "            },\n",
        "            {\n",
        "                'type': 'table'\n",
        "            }\n",
        "        ]\n",
        "      }"
      ],
      "metadata": {
        "id": "cL0D2UXPWqid"
      },
      "execution_count": 20,
      "outputs": []
    },
    {
      "cell_type": "code",
      "source": [
        "# Make the API request\n",
        "    response = requests.post(extract_url, headers=headers, json=operation_options)\n",
        "\n",
        "    # Check if the request was successful\n",
        "    if response.status_code == 202:\n",
        "        operation_id = response.json()['operationId']\n",
        "        return operation_id\n",
        "    else:\n",
        "        error_message = response.json()['error']['message']\n",
        "        raise Exception(f'Error extracting data: {error_message}')\n",
        "\n",
        "# Function to check the extraction status\n",
        "def check_extraction_status(operation_id):\n",
        "    status_url = f'{extract_api_url}/pdfExtract/operations/{operation_id}'\n",
        "    access_token = get_access_token()\n",
        "\n",
        "    # Set the headers with the access token\n",
        "    headers = {\n",
        "        'Content-Type': 'application/json',\n",
        "        'Authorization': f'Bearer {access_token}'\n",
        "    }\n",
        "\n",
        "    # Make the API request\n",
        "    response = requests.get(status_url, headers=headers)\n",
        "\n",
        "    # Check if the request was successful\n",
        "    if response.status_code == 200:\n",
        "        status = response.json()['status']\n",
        "        return status\n",
        "    else:\n",
        "        error_message = response.json()['error']['message']\n",
        "        raise Exception(f'Error checking extraction status: {error_message}')\n",
        "\n",
        "# Function to download the extracted data\n",
        "def download_extracted_data(operation_id, output_file_path):\n",
        "    download_url = f'{extract_api_url}/pdfExtract/operations/{operation_id}/output'\n",
        "    access_token = get_access_token()\n",
        "\n",
        "    # Set the headers with the access token\n",
        "    headers = {\n",
        "        'Content-Type': 'application/json',\n",
        "        'Authorization': f'Bearer {access_token}'\n",
        "    }\n",
        "\n",
        "    # Make the API request\n",
        "    response = requests.get(download_url, headers=headers)\n",
        "\n",
        "    # Check if the request was successful\n",
        "    if response.status_code == 200:\n",
        "        with open(output_file_path, 'wb') as output_file:\n",
        "            output_file.write(response.content)\n",
        "        print(f'Extracted data downloaded to {output_file_path}')\n",
        "    else:\n",
        "        error_message = response.json()['error']['message']\n",
        "        raise Exception(f'Error downloading"
      ],
      "metadata": {
        "id": "GhPhPmZDhlFC"
      },
      "execution_count": null,
      "outputs": []
    },
    {
      "cell_type": "code",
      "source": [],
      "metadata": {
        "id": "xfHBICnAh7Ji"
      },
      "execution_count": null,
      "outputs": []
    }
  ]
}